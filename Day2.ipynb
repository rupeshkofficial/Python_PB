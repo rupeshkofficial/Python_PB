{
 "cells": [
  {
   "cell_type": "markdown",
   "id": "127ef54e-683a-4d5e-b2ac-e5cffdb94895",
   "metadata": {},
   "source": [
    "# Operators in Python"
   ]
  },
  {
   "cell_type": "markdown",
   "id": "dde166e5-ed17-4be8-aac9-892d32a23ce7",
   "metadata": {},
   "source": [
    "  1. Arithmetic operator\n",
    "  2. Assignment operator\n",
    "  3. Comparison operator\n",
    "  4. Logical operator\n",
    "  5. Bitwise Operator"
   ]
  },
  {
   "cell_type": "code",
   "execution_count": null,
   "id": "945a26bb-33cd-452a-b790-84dc9ab4da7c",
   "metadata": {},
   "outputs": [],
   "source": []
  }
 ],
 "metadata": {
  "kernelspec": {
   "display_name": "Python 3 (ipykernel)",
   "language": "python",
   "name": "python3"
  },
  "language_info": {
   "codemirror_mode": {
    "name": "ipython",
    "version": 3
   },
   "file_extension": ".py",
   "mimetype": "text/x-python",
   "name": "python",
   "nbconvert_exporter": "python",
   "pygments_lexer": "ipython3",
   "version": "3.11.7"
  }
 },
 "nbformat": 4,
 "nbformat_minor": 5
}
