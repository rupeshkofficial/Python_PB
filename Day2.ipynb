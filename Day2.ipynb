{
 "cells": [
  {
   "cell_type": "markdown",
   "id": "127ef54e-683a-4d5e-b2ac-e5cffdb94895",
   "metadata": {},
   "source": [
    "# Operators in Python"
   ]
  },
  {
   "cell_type": "markdown",
   "id": "dde166e5-ed17-4be8-aac9-892d32a23ce7",
   "metadata": {},
   "source": [
    "  1. Arithmetic operator\n",
    "  2. Assignment operator\n",
    "  3. Comparison operator\n",
    "  4. Logical operator\n",
    "  5. Bitwise Operator"
   ]
  },
  {
   "cell_type": "markdown",
   "id": "56c5392d-5f1b-4d01-b903-627e00b6b2ff",
   "metadata": {},
   "source": [
    "# Arithmetic operator"
   ]
  },
  {
   "cell_type": "code",
   "execution_count": 10,
   "id": "454e18a0-392c-4124-99e4-ebe11582c4cd",
   "metadata": {},
   "outputs": [
    {
     "name": "stdout",
     "output_type": "stream",
     "text": [
      "110\n",
      "90\n",
      "1000\n",
      "10.0\n",
      "0\n",
      "100000000000000000000\n",
      "10\n"
     ]
    }
   ],
   "source": [
    "x = 100 \n",
    "y = 10\n",
    "\n",
    "print(x+y) #addition\n",
    "print(x-y) #substraction\n",
    "print(x*y) #multiplication\n",
    "\n",
    "print(x/y) #Division --Return :- Quotient\n",
    "\n",
    "\n",
    "print(x%y) #modulus --> Return :- Remainder\n",
    "\n",
    "print(x**y) #power\n",
    "\n",
    "print(x//y) #floor division"
   ]
  },
  {
   "cell_type": "markdown",
   "id": "71ca19c7-ca9f-4e57-b93d-e232db5f85c1",
   "metadata": {},
   "source": [
    "# Assignment operator"
   ]
  },
  {
   "cell_type": "markdown",
   "id": "de77a9e6-4478-4101-afb3-cac6cd253d22",
   "metadata": {},
   "source": [
    "=, +=, -=, *=, /=, %=, //=, **==, &=, |=, <<=, >>="
   ]
  },
  {
   "cell_type": "code",
   "execution_count": 15,
   "id": "e8536e9d-47b6-41e0-90ab-1c7ad56669ae",
   "metadata": {},
   "outputs": [
    {
     "name": "stdout",
     "output_type": "stream",
     "text": [
      "15\n",
      "20\n",
      "25\n",
      "20\n",
      "15\n",
      "0\n",
      "0\n",
      "25\n"
     ]
    }
   ],
   "source": [
    "x = 15\n",
    "print(x)\n",
    "x = x + 5\n",
    "print(x)\n",
    "x +=5\n",
    "print(x)\n",
    "\n",
    "x = x -5\n",
    "print(x)\n",
    "x -= 5\n",
    "print(x)\n",
    "\n",
    "x %=5\n",
    "print(x)\n",
    "\n",
    "x //=5\n",
    "print(x)\n",
    "\n",
    "a = 5\n",
    "a *=5\n",
    "print(a)\n"
   ]
  },
  {
   "cell_type": "markdown",
   "id": "0499b585-851e-48c9-aaf5-b971d5816311",
   "metadata": {},
   "source": [
    "# Comparison operator"
   ]
  },
  {
   "cell_type": "markdown",
   "id": "57c20dbe-f5f0-4d81-93cf-0dd5b0847ac6",
   "metadata": {},
   "source": [
    "==, !=, >, <, >=, <="
   ]
  },
  {
   "cell_type": "code",
   "execution_count": 18,
   "id": "59e91cc6-40bf-4a1f-a98a-f0ea4c1b7996",
   "metadata": {},
   "outputs": [
    {
     "name": "stdout",
     "output_type": "stream",
     "text": [
      "False\n",
      "True\n",
      "False\n",
      "True\n",
      "False\n",
      "True\n"
     ]
    }
   ],
   "source": [
    "x = 23\n",
    "y = 26\n",
    "print(x==y)\n",
    "print(x!=y)\n",
    "print(x>y)\n",
    "print(x<y)\n",
    "print(x>=y)\n",
    "print(x<=y)"
   ]
  },
  {
   "cell_type": "markdown",
   "id": "ce13aaa4-d190-4615-9ea7-4276dc16134b",
   "metadata": {},
   "source": [
    "# Logical operator"
   ]
  },
  {
   "cell_type": "markdown",
   "id": "b4491123-dc45-4eb1-a739-8fa92148f3c7",
   "metadata": {},
   "source": [
    "and (&), or(|), not (~)\n",
    "\n",
    "and --> True True --> True otherwise false\n",
    "or --> anyone true --> True\n",
    "not(~)"
   ]
  },
  {
   "cell_type": "code",
   "execution_count": 22,
   "id": "9c53cfb8-0ff1-4a62-a56c-fdd5a471ba6a",
   "metadata": {},
   "outputs": [
    {
     "name": "stdout",
     "output_type": "stream",
     "text": [
      "True\n",
      "True\n",
      "False\n",
      "True\n"
     ]
    }
   ],
   "source": [
    "x = 10\n",
    "y = 34\n",
    "\n",
    "print(x > 4  and x <34)\n",
    "print(x > 4  or x <34)\n",
    "print(y < 23 and y >23)\n",
    "print(y < 23 or y >23)\n"
   ]
  },
  {
   "cell_type": "markdown",
   "id": "93d9b702-242a-40b4-8c69-7c04b405497c",
   "metadata": {},
   "source": [
    "# Bitwise Operator"
   ]
  },
  {
   "cell_type": "markdown",
   "id": "639f4a26-5894-44b8-b43c-cb901419e8cc",
   "metadata": {},
   "source": [
    "Used for comparing binary number"
   ]
  },
  {
   "cell_type": "code",
   "execution_count": 23,
   "id": "f145989d-68f5-4542-a3c6-ec418f1a080b",
   "metadata": {},
   "outputs": [
    {
     "name": "stdout",
     "output_type": "stream",
     "text": [
      "2\n"
     ]
    }
   ],
   "source": [
    "print(6&3)\n"
   ]
  },
  {
   "cell_type": "code",
   "execution_count": null,
   "id": "cb03b928-ae4c-4574-95cb-0b86b33ed2d8",
   "metadata": {},
   "outputs": [],
   "source": []
  }
 ],
 "metadata": {
  "kernelspec": {
   "display_name": "Python 3 (ipykernel)",
   "language": "python",
   "name": "python3"
  },
  "language_info": {
   "codemirror_mode": {
    "name": "ipython",
    "version": 3
   },
   "file_extension": ".py",
   "mimetype": "text/x-python",
   "name": "python",
   "nbconvert_exporter": "python",
   "pygments_lexer": "ipython3",
   "version": "3.11.7"
  }
 },
 "nbformat": 4,
 "nbformat_minor": 5
}
