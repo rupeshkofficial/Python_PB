{
 "cells": [
  {
   "cell_type": "markdown",
   "id": "2c098334-2a57-4f86-bdbe-ccb898479e17",
   "metadata": {},
   "source": [
    "# Python Basic (How to print)"
   ]
  },
  {
   "cell_type": "code",
   "execution_count": 6,
   "id": "052baf5d-7f86-4d7c-a36b-3a755c98511b",
   "metadata": {},
   "outputs": [
    {
     "name": "stdout",
     "output_type": "stream",
     "text": [
      "Rupesh Kumar\n"
     ]
    }
   ],
   "source": [
    "print(\"Rupesh Kumar\")"
   ]
  },
  {
   "cell_type": "code",
   "execution_count": 7,
   "id": "8419ce18-f67c-409d-99dc-0b9523b43a17",
   "metadata": {},
   "outputs": [
    {
     "name": "stdout",
     "output_type": "stream",
     "text": [
      "12\n",
      "23\n"
     ]
    }
   ],
   "source": [
    "# how to print integer\n",
    "a = 12\n",
    "b = 23\n",
    "print(a)\n",
    "print(b)"
   ]
  },
  {
   "cell_type": "markdown",
   "id": "87df8e03-9312-4b95-8174-569080a8cf78",
   "metadata": {},
   "source": [
    "# Variables in Python\n",
    "  1. The variable's name starts with a small letter, not from capital letter\n",
    "  2. Variables can't start with number\\\n",
    "  3. Variables can start with an underscore (_) etc."
   ]
  },
  {
   "cell_type": "code",
   "execution_count": 8,
   "id": "e630d4e8-95a7-4ce5-b72a-9180dc30476d",
   "metadata": {},
   "outputs": [
    {
     "name": "stdout",
     "output_type": "stream",
     "text": [
      "5\n",
      "7\n",
      "12\n"
     ]
    }
   ],
   "source": [
    "# the way to print variables\n",
    "x = 5\n",
    "y = 7\n",
    "print(x)\n",
    "print(y)\n",
    "print(x+y)"
   ]
  },
  {
   "cell_type": "code",
   "execution_count": 9,
   "id": "4a6ca69f-9837-488f-a1db-9bab6d8afdbc",
   "metadata": {},
   "outputs": [
    {
     "name": "stdout",
     "output_type": "stream",
     "text": [
      "5\n",
      "7\n",
      "7\n"
     ]
    }
   ],
   "source": [
    "#for multiple variables\n",
    "x, y, z = 5, 7, 7\n",
    "print(x)\n",
    "print(y)\n",
    "print(z)"
   ]
  },
  {
   "cell_type": "markdown",
   "id": "b951d0a9-ee19-4e33-bad4-8ff9219e85bb",
   "metadata": {},
   "source": [
    "# Data Types in Python\n",
    " 1. String --> \"Rupesh\"\n",
    " 2. Numeric -->  int (1,2,34), float (1.2,3.5), complex (1-2i)\n",
    " 3. Sequence --> list, tuple, range\n",
    " 4. Mapping --> Dict\n",
    " 5.  Boolean --> True(1), False(0)\n",
    " 6.  NaN --> None Type"
   ]
  },
  {
   "cell_type": "code",
   "execution_count": 11,
   "id": "5d902828-1cb9-4794-8c74-77519be8d61a",
   "metadata": {},
   "outputs": [
    {
     "name": "stdout",
     "output_type": "stream",
     "text": [
      "priyanshu\n"
     ]
    }
   ],
   "source": [
    "print(\"priyanshu\")"
   ]
  },
  {
   "cell_type": "markdown",
   "id": "2a405b38-71bf-4e54-9c8c-d574b7a7fb1e",
   "metadata": {},
   "source": [
    "# type()"
   ]
  },
  {
   "cell_type": "code",
   "execution_count": 10,
   "id": "2de5371e-dad7-4e43-b2d9-a953ffa5ff90",
   "metadata": {},
   "outputs": [
    {
     "name": "stdout",
     "output_type": "stream",
     "text": [
      "<class 'str'>\n"
     ]
    }
   ],
   "source": [
    "x = \"priyanshu\"\n",
    "print(type(x))"
   ]
  },
  {
   "cell_type": "code",
   "execution_count": 11,
   "id": "e4a9c588-5936-41d7-a90d-2f9a973729ce",
   "metadata": {},
   "outputs": [
    {
     "name": "stdout",
     "output_type": "stream",
     "text": [
      "<class 'int'>\n"
     ]
    }
   ],
   "source": [
    "x = 12\n",
    "print(type(x))"
   ]
  },
  {
   "cell_type": "code",
   "execution_count": 12,
   "id": "36121f6b-b37e-41b2-9f74-42d2a222227c",
   "metadata": {},
   "outputs": [
    {
     "name": "stdout",
     "output_type": "stream",
     "text": [
      "<class 'list'>\n"
     ]
    }
   ],
   "source": [
    "x = [\"Rupesh\", \"Golu\", \"Priyanshu\"]\n",
    "print(type(x))"
   ]
  },
  {
   "cell_type": "code",
   "execution_count": 13,
   "id": "2e625111-3185-4b5d-8d62-91667ef34237",
   "metadata": {},
   "outputs": [
    {
     "name": "stdout",
     "output_type": "stream",
     "text": [
      "<class 'int'>\n",
      "<class 'float'>\n",
      "<class 'complex'>\n"
     ]
    }
   ],
   "source": [
    "x = 23\n",
    "y = 25.89\n",
    "z = 2j\n",
    "\n",
    "print(type(x))\n",
    "print(type(y))\n",
    "print(type(z))"
   ]
  },
  {
   "cell_type": "markdown",
   "id": "7d778e93-e535-442b-a078-2cc850dfd249",
   "metadata": {},
   "source": [
    "# Type Casting in python"
   ]
  },
  {
   "cell_type": "code",
   "execution_count": 16,
   "id": "82db8952-e4f0-43cf-8b71-4896f888f220",
   "metadata": {},
   "outputs": [
    {
     "name": "stdout",
     "output_type": "stream",
     "text": [
      "23.45\n"
     ]
    }
   ],
   "source": [
    "# interger --> str\n",
    "x = 23.45\n",
    "print(str(x))"
   ]
  },
  {
   "cell_type": "code",
   "execution_count": 17,
   "id": "c90d7980-35be-4ef2-ae24-deafb810539e",
   "metadata": {},
   "outputs": [
    {
     "name": "stdout",
     "output_type": "stream",
     "text": [
      "123\n"
     ]
    }
   ],
   "source": [
    "#float -> int\n",
    "\n",
    "x = 123.45\n",
    "print(int(x))"
   ]
  },
  {
   "cell_type": "code",
   "execution_count": 18,
   "id": "23a11b62-b060-4cbf-8ac0-1bc375b17824",
   "metadata": {},
   "outputs": [
    {
     "name": "stdout",
     "output_type": "stream",
     "text": [
      "23.0\n"
     ]
    }
   ],
   "source": [
    "# int --> float\n",
    "\n",
    "x = 23\n",
    "print(float(x))"
   ]
  },
  {
   "cell_type": "markdown",
   "id": "72898a43-3445-46f1-8010-deeda7f5facb",
   "metadata": {},
   "source": [
    "# Multi line comments in Python\n",
    "\n"
   ]
  },
  {
   "cell_type": "code",
   "execution_count": 23,
   "id": "c407ddad-d0eb-4abc-a1ea-a830d4168890",
   "metadata": {},
   "outputs": [
    {
     "name": "stdout",
     "output_type": "stream",
     "text": [
      " Priyanshu Bharti is a Good Girl. \n",
      "She is a video editor\n"
     ]
    }
   ],
   "source": [
    "name_des = \"\"\" Priyanshu Bharti is a Good Girl. \n",
    "She is a video editor\"\"\"\n",
    "\n",
    "print(name_des)\n",
    "       "
   ]
  },
  {
   "cell_type": "markdown",
   "id": "b931de59-73e7-49e6-abdc-d8dd61b316c5",
   "metadata": {},
   "source": [
    "# Boolean data Types in Python"
   ]
  },
  {
   "cell_type": "code",
   "execution_count": 21,
   "id": "dadfe7bc-3e20-4b81-ba53-b80099af1278",
   "metadata": {},
   "outputs": [
    {
     "name": "stdout",
     "output_type": "stream",
     "text": [
      "True\n",
      "False\n"
     ]
    }
   ],
   "source": [
    "print(10 > 8)"
   ]
  },
  {
   "cell_type": "code",
   "execution_count": null,
   "id": "7b3eeeff-81fe-4de8-b9a1-65a02c532d27",
   "metadata": {},
   "outputs": [],
   "source": []
  }
 ],
 "metadata": {
  "kernelspec": {
   "display_name": "Python 3 (ipykernel)",
   "language": "python",
   "name": "python3"
  },
  "language_info": {
   "codemirror_mode": {
    "name": "ipython",
    "version": 3
   },
   "file_extension": ".py",
   "mimetype": "text/x-python",
   "name": "python",
   "nbconvert_exporter": "python",
   "pygments_lexer": "ipython3",
   "version": "3.11.7"
  }
 },
 "nbformat": 4,
 "nbformat_minor": 5
}
