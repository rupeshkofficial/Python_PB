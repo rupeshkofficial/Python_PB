{
 "cells": [
  {
   "cell_type": "markdown",
   "id": "2c098334-2a57-4f86-bdbe-ccb898479e17",
   "metadata": {},
   "source": [
    "#Basic"
   ]
  },
  {
   "cell_type": "code",
   "execution_count": 1,
   "id": "052baf5d-7f86-4d7c-a36b-3a755c98511b",
   "metadata": {},
   "outputs": [
    {
     "name": "stdout",
     "output_type": "stream",
     "text": [
      "Rupesh\n"
     ]
    }
   ],
   "source": [
    "print(\"Rupesh\")"
   ]
  },
  {
   "cell_type": "code",
   "execution_count": 5,
   "id": "8419ce18-f67c-409d-99dc-0b9523b43a17",
   "metadata": {},
   "outputs": [
    {
     "name": "stdout",
     "output_type": "stream",
     "text": [
      "12\n"
     ]
    }
   ],
   "source": [
    "# integer\n",
    "a = 12  \n",
    "print(a)"
   ]
  },
  {
   "cell_type": "markdown",
   "id": "87df8e03-9312-4b95-8174-569080a8cf78",
   "metadata": {},
   "source": [
    "# Variable"
   ]
  },
  {
   "cell_type": "code",
   "execution_count": null,
   "id": "6c4802b0-0b10-4355-b864-25a30914c415",
   "metadata": {},
   "outputs": [],
   "source": [
    "1. letter --> small letter\n",
    "2. Not start with number\n",
    "3. start with underscore (__)\n"
   ]
  },
  {
   "cell_type": "code",
   "execution_count": 6,
   "id": "e630d4e8-95a7-4ce5-b72a-9180dc30476d",
   "metadata": {},
   "outputs": [
    {
     "name": "stdout",
     "output_type": "stream",
     "text": [
      "5\n",
      "7\n",
      "12\n"
     ]
    }
   ],
   "source": [
    "x = 5\n",
    "y = 7\n",
    "print(x)\n",
    "print(y)\n",
    "print(x+y)"
   ]
  },
  {
   "cell_type": "code",
   "execution_count": 9,
   "id": "4a6ca69f-9837-488f-a1db-9bab6d8afdbc",
   "metadata": {},
   "outputs": [
    {
     "name": "stdout",
     "output_type": "stream",
     "text": [
      "5\n",
      "7\n",
      "7\n"
     ]
    }
   ],
   "source": [
    " x, y, z = 5, 7, 7\n",
    "print(x)\n",
    "print(y)\n",
    "print(z)"
   ]
  },
  {
   "cell_type": "markdown",
   "id": "b951d0a9-ee19-4e33-bad4-8ff9219e85bb",
   "metadata": {},
   "source": [
    "#Data Types"
   ]
  },
  {
   "cell_type": "markdown",
   "id": "7bf96bc6-afbf-44d1-ae36-a71045162c46",
   "metadata": {},
   "source": [
    "String --> \"Rupesh\"\n",
    "Numeric --> int (1,2,34), float (1.2,3.5), complex (1-2i)\n",
    "Sequence --> list, tuple, range\n",
    "Mapping --> Dict\n",
    "Boolean --> True (1) False (0)\n",
    "NaN --> None Type --> Pandas \n",
    "\n",
    "NaN = 0\n",
    "NaN + 12 = 12 (wrong) -> NaN"
   ]
  },
  {
   "cell_type": "code",
   "execution_count": 11,
   "id": "5d902828-1cb9-4794-8c74-77519be8d61a",
   "metadata": {},
   "outputs": [
    {
     "name": "stdout",
     "output_type": "stream",
     "text": [
      "priyanshu\n"
     ]
    }
   ],
   "source": [
    "print(\"priyanshu\")"
   ]
  },
  {
   "cell_type": "code",
   "execution_count": 12,
   "id": "2de5371e-dad7-4e43-b2d9-a953ffa5ff90",
   "metadata": {},
   "outputs": [
    {
     "name": "stdout",
     "output_type": "stream",
     "text": [
      "<class 'str'>\n"
     ]
    }
   ],
   "source": [
    "x = \"priyanshu\"\n",
    "print(type(x))"
   ]
  },
  {
   "cell_type": "code",
   "execution_count": 13,
   "id": "e4a9c588-5936-41d7-a90d-2f9a973729ce",
   "metadata": {},
   "outputs": [
    {
     "name": "stdout",
     "output_type": "stream",
     "text": [
      "<class 'int'>\n"
     ]
    }
   ],
   "source": [
    " x = 12\n",
    "print(type(x))"
   ]
  },
  {
   "cell_type": "code",
   "execution_count": 14,
   "id": "36121f6b-b37e-41b2-9f74-42d2a222227c",
   "metadata": {},
   "outputs": [
    {
     "name": "stdout",
     "output_type": "stream",
     "text": [
      "<class 'list'>\n"
     ]
    }
   ],
   "source": [
    "x = [\"Rupesh\", \"Golu\", \"Priyanshu\"]\n",
    "print(type(x))"
   ]
  },
  {
   "cell_type": "code",
   "execution_count": 15,
   "id": "2e625111-3185-4b5d-8d62-91667ef34237",
   "metadata": {},
   "outputs": [
    {
     "name": "stdout",
     "output_type": "stream",
     "text": [
      "<class 'int'>\n",
      "<class 'float'>\n",
      "<class 'complex'>\n"
     ]
    }
   ],
   "source": [
    "x = 23\n",
    "y = 25.89\n",
    "z = 2j\n",
    "\n",
    "print(type(x))\n",
    "print(type(y))\n",
    "print(type(z))"
   ]
  },
  {
   "cell_type": "code",
   "execution_count": 16,
   "id": "46e7e5b8-d004-4a5f-995c-008a9bc17756",
   "metadata": {},
   "outputs": [
    {
     "name": "stdout",
     "output_type": "stream",
     "text": [
      "23.45\n"
     ]
    }
   ],
   "source": [
    "x  = 23.65\n",
    "x = 24\n",
    "print(x)"
   ]
  },
  {
   "cell_type": "markdown",
   "id": "7d778e93-e535-442b-a078-2cc850dfd249",
   "metadata": {},
   "source": [
    "#Type Casting"
   ]
  },
  {
   "cell_type": "code",
   "execution_count": 18,
   "id": "82db8952-e4f0-43cf-8b71-4896f888f220",
   "metadata": {},
   "outputs": [
    {
     "name": "stdout",
     "output_type": "stream",
     "text": [
      "23.45\n"
     ]
    }
   ],
   "source": [
    "x = 23.45\n",
    "print(str(x))"
   ]
  },
  {
   "cell_type": "markdown",
   "id": "7cd1ea01-c663-4390-873e-c6abaa7e7f98",
   "metadata": {},
   "source": [
    "float -> int\n",
    "int -> float\n",
    "complex --> int\n"
   ]
  },
  {
   "cell_type": "code",
   "execution_count": 19,
   "id": "70059f99-3346-475f-a72b-ae3b045c3eff",
   "metadata": {},
   "outputs": [
    {
     "name": "stdout",
     "output_type": "stream",
     "text": [
      " fjkergrtklmhjmuykljmfrgbrf\n",
      "dweferjktmnyjhn\n",
      "srfgrtmkhrth\n",
      "tyhyjuy\n",
      "\n"
     ]
    }
   ],
   "source": [
    "\n",
    "\n",
    "x = \"\"\" fjkergrtklmhjmuykljmfrgbrf\n",
    "dweferjktmnyjhn\n",
    "srfgrtmkhrth\n",
    "tyhyjuy\n",
    "\"\"\"\n",
    "\n",
    "print(x)"
   ]
  },
  {
   "cell_type": "code",
   "execution_count": 21,
   "id": "dadfe7bc-3e20-4b81-ba53-b80099af1278",
   "metadata": {},
   "outputs": [
    {
     "name": "stdout",
     "output_type": "stream",
     "text": [
      "True\n",
      "False\n"
     ]
    }
   ],
   "source": [
    "#Boolean (0, 1)\n",
    "\n",
    "print(10 > 8)\n",
    "print(11<10)\n",
    "\n",
    " "
   ]
  },
  {
   "cell_type": "code",
   "execution_count": null,
   "id": "7b3eeeff-81fe-4de8-b9a1-65a02c532d27",
   "metadata": {},
   "outputs": [],
   "source": []
  }
 ],
 "metadata": {
  "kernelspec": {
   "display_name": "Python 3 (ipykernel)",
   "language": "python",
   "name": "python3"
  },
  "language_info": {
   "codemirror_mode": {
    "name": "ipython",
    "version": 3
   },
   "file_extension": ".py",
   "mimetype": "text/x-python",
   "name": "python",
   "nbconvert_exporter": "python",
   "pygments_lexer": "ipython3",
   "version": "3.11.7"
  }
 },
 "nbformat": 4,
 "nbformat_minor": 5
}
