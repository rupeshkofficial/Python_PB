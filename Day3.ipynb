{
 "cells": [
  {
   "cell_type": "markdown",
   "id": "1be3fcbc-c9f7-4b5a-9d30-694049c995ba",
   "metadata": {},
   "source": [
    "# Conditional Statments"
   ]
  },
  {
   "cell_type": "markdown",
   "id": "4c444925-3c07-45e1-b748-fd7123d6af29",
   "metadata": {},
   "source": [
    "# if statment"
   ]
  },
  {
   "cell_type": "code",
   "execution_count": 3,
   "id": "f461b44c-da9a-47fb-9b84-ad9ef64e8ba7",
   "metadata": {},
   "outputs": [
    {
     "name": "stdout",
     "output_type": "stream",
     "text": [
      "Rupesh\n"
     ]
    }
   ],
   "source": [
    "a = 23\n",
    "b = 200\n",
    "if a > b:\n",
    "    print(\"Priyanshu\")\n",
    "else:\n",
    "    print(\"Rupesh\")"
   ]
  },
  {
   "cell_type": "code",
   "execution_count": 5,
   "id": "1189f8d2-c70b-49da-bc30-156900bc1a95",
   "metadata": {},
   "outputs": [
    {
     "name": "stdout",
     "output_type": "stream",
     "text": [
      "Rupesh111\n"
     ]
    }
   ],
   "source": [
    "a = 23\n",
    "b = 230\n",
    "if (a > b):\n",
    "  print(\"Rupesh\")\n",
    "else:\n",
    "    print(\"Rupesh111\")\n",
    "    "
   ]
  },
  {
   "cell_type": "markdown",
   "id": "6a738940-fa03-49d7-b9c4-4aecd2484e07",
   "metadata": {},
   "source": [
    "# How to take input in python"
   ]
  },
  {
   "cell_type": "code",
   "execution_count": 7,
   "id": "65e3c1eb-698b-44f9-8735-61986a4b4923",
   "metadata": {},
   "outputs": [
    {
     "name": "stdin",
     "output_type": "stream",
     "text": [
      "Enter a Number: 23\n"
     ]
    },
    {
     "name": "stdout",
     "output_type": "stream",
     "text": [
      "23\n"
     ]
    }
   ],
   "source": [
    "x = int(input(\"Enter a Number:\"))\n",
    "print(x)"
   ]
  },
  {
   "cell_type": "code",
   "execution_count": 9,
   "id": "10e21f7f-d5a6-4ca6-8ded-278df7db96c8",
   "metadata": {},
   "outputs": [
    {
     "name": "stdin",
     "output_type": "stream",
     "text": [
      "Enter a Number 24\n"
     ]
    },
    {
     "name": "stdout",
     "output_type": "stream",
     "text": [
      "Number is Even\n"
     ]
    }
   ],
   "source": [
    "# to check number is even or odd\n",
    "\n",
    "number = int(input(\"Enter a Number\"))\n",
    "if (number%2 == 0):\n",
    "    print(\"Number is Even\")\n",
    "else:\n",
    "    print(\"Number is Odd\")"
   ]
  },
  {
   "cell_type": "code",
   "execution_count": null,
   "id": "bcfe27c1-1ed3-427b-8ee8-683e3cf5aae0",
   "metadata": {},
   "outputs": [],
   "source": []
  }
 ],
 "metadata": {
  "kernelspec": {
   "display_name": "Python 3 (ipykernel)",
   "language": "python",
   "name": "python3"
  },
  "language_info": {
   "codemirror_mode": {
    "name": "ipython",
    "version": 3
   },
   "file_extension": ".py",
   "mimetype": "text/x-python",
   "name": "python",
   "nbconvert_exporter": "python",
   "pygments_lexer": "ipython3",
   "version": "3.11.7"
  }
 },
 "nbformat": 4,
 "nbformat_minor": 5
}
