{
 "cells": [
  {
   "cell_type": "markdown",
   "id": "1be3fcbc-c9f7-4b5a-9d30-694049c995ba",
   "metadata": {},
   "source": [
    "# Conditional Statments"
   ]
  },
  {
   "cell_type": "code",
   "execution_count": null,
   "id": "d39ae36d-d11f-423b-9186-484bb5241815",
   "metadata": {},
   "outputs": [],
   "source": []
  }
 ],
 "metadata": {
  "kernelspec": {
   "display_name": "Python 3 (ipykernel)",
   "language": "python",
   "name": "python3"
  },
  "language_info": {
   "codemirror_mode": {
    "name": "ipython",
    "version": 3
   },
   "file_extension": ".py",
   "mimetype": "text/x-python",
   "name": "python",
   "nbconvert_exporter": "python",
   "pygments_lexer": "ipython3",
   "version": "3.11.7"
  }
 },
 "nbformat": 4,
 "nbformat_minor": 5
}
